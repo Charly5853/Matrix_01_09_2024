{
  "nbformat": 4,
  "nbformat_minor": 0,
  "metadata": {
    "colab": {
      "provenance": [],
      "authorship_tag": "ABX9TyM+sGZmXShDOVA0VGdkzPYL",
      "include_colab_link": true
    },
    "kernelspec": {
      "name": "python3",
      "display_name": "Python 3"
    },
    "language_info": {
      "name": "python"
    }
  },
  "cells": [
    {
      "cell_type": "markdown",
      "metadata": {
        "id": "view-in-github",
        "colab_type": "text"
      },
      "source": [
        "<a href=\"https://colab.research.google.com/github/Charly5853/Matrix_01_09_2024/blob/main/Copy_of_Untitled0.ipynb\" target=\"_parent\"><img src=\"https://colab.research.google.com/assets/colab-badge.svg\" alt=\"Open In Colab\"/></a>"
      ]
    },
    {
      "cell_type": "code",
      "execution_count": null,
      "metadata": {
        "id": "JaZ5XQtgiaSt"
      },
      "outputs": [],
      "source": [
        "def print_Matrix(m):\n",
        "      for row in m:\n",
        "         print(row)"
      ]
    },
    {
      "cell_type": "code",
      "source": [
        "def print_Matrix_by_Coordenates(m):\n",
        "    for row in range(len(m)):\n",
        "         for col in range(len(m[0])):\n",
        "             num = m[row][col]\n",
        "             print(num, end=\"  \")\n",
        "         print()"
      ],
      "metadata": {
        "id": "D7rwc2eejcNc"
      },
      "execution_count": null,
      "outputs": []
    },
    {
      "cell_type": "code",
      "source": [
        "def sum_Matrix(m1,m2, r1):\n",
        "     for row in range(len(m1)):\n",
        "         for col in range(len(m1[0])):\n",
        "             num1 = m1[row][col]\n",
        "             num2 = m2[row][col]\n",
        "             result = num1 + num2\n",
        "             r1[row][col] = result\n",
        "             #print(result, end=\" - \")"
      ],
      "metadata": {
        "id": "4J7NPVvtikEG"
      },
      "execution_count": null,
      "outputs": []
    },
    {
      "cell_type": "code",
      "source": [
        "def function_Transpose_Matrix(m2, transposeMatrix2):\n",
        "         matrix_length_Y = len(m2)\n",
        "         matrix_length_X = len(m2[0])\n",
        "         #print(\" Rows = \",matrix_length_Y)\n",
        "         #print(\" Columns = \",matrix_length_X)\n",
        "         #print(\" Print matrix \")\n",
        "\n",
        "         for column2 in range(matrix_length_X):\n",
        "             for row2 in range(matrix_length_Y):\n",
        "                 #print(m2[row2][column2], end = \" \")\n",
        "                 num = m2[row2][column2]\n",
        "                 transposeMatrix2[column2][row2] = num\n",
        "                 #print(transposeMatrix[column2][row2], end = \" \")\n",
        "             print()"
      ],
      "metadata": {
        "id": "K14t4WCti7jz"
      },
      "execution_count": null,
      "outputs": []
    },
    {
      "cell_type": "code",
      "source": [
        "def main():\n",
        "\n",
        "\n",
        "     # Statement of matrix\n",
        "     matrixA = [[5,3],\n",
        "                [-2,9],\n",
        "                [7,-4]]\n",
        "     print_Matrix_by_Coordenates(matrixA)\n",
        "     rowA = len(matrixA)\n",
        "     colA = len(matrixA[0])\n",
        "     print(\" Row Ma \", rowA)\n",
        "     print(\" Col Ma \", colA)\n",
        "\n",
        "     #create TransposeMatrix\n",
        "     print(\" \")\n",
        "     print(\" >>>>>>>>>>>> Transpose Matrix \")\n",
        "     transpose_Matrix = [[0 for x in range(rowA)] for y in range(colA)] # x = width, y = height\n",
        "     function_Transpose_Matrix(matrixA, transpose_Matrix)\n",
        "     print_Matrix_by_Coordenates(transpose_Matrix)\n",
        "\n",
        "\n",
        "     print(\" \")\n",
        "     print(\" >>>>>>>>>>>> Matrix B \")\n",
        "     matrixB = [[-2,8,5,3],\n",
        "               [5,-6,7,-7]]\n",
        "     rowB = len(matrixB)\n",
        "     colB = len(matrixB[0])\n",
        "     print(\" Row Mb \", rowB  )\n",
        "     print(\" Col Mb \", colB)\n",
        "     print_Matrix_by_Coordenates(matrixB)\n",
        "\n",
        "     #rows = len(matrixA[0]) # col matrixA  colA\n",
        "     #columns = len(matrixB[0]) # col matrixB\n",
        "     # create a temp matriX\n",
        "     temMatrix = [[0 for _ in range(colB)] for _ in range(colA)]\n",
        "\n",
        "     for row in range(len(temMatrix)):\n",
        "         for col in range(len(temMatrix[0])):\n",
        "             temMatrix[row][col] = row\n",
        "     print(\"++++++++++++ Temporal Matrix \")\n",
        "     print_Matrix_by_Coordenates(temMatrix)\n",
        "     print(\"+++++++++++++++++++ \")\n",
        "\n",
        "     # create a multiply_Temp\n",
        "     multiply_Temp_M = [[1 for _ in range(colB)] for _ in range(colA+1)]\n",
        "     mResult = [[1 for _ in range(colB)] for _ in range(colA+1)]\n",
        "     # Display the multiply_Temp_M row format\n",
        "     print(\"Create a multiply_Temp\")\n",
        "     print(\"Matrix multiply_Temp_M:\")\n",
        "     for row in multiply_Temp_M:\n",
        "         print(row)\n",
        "\n",
        "\n",
        "     # copy column transpose_Matrix in to columns temMatrix\n",
        "     for col in range(len(transpose_Matrix[0])): # by colummn\n",
        "         print(\"\")\n",
        "         print(col,\" $$$  Row   $$$$ \")\n",
        "         for row2 in range(len(transpose_Matrix)): # by row\n",
        "             num = transpose_Matrix[row2][col]\n",
        "             print(num, end=\" / \")\n",
        "\n",
        "             for col2 in range(len(temMatrix[0])):\n",
        "                 temMatrix[row2][col2] = num\n",
        "                 #print(temMatrix[row5][col2], end=\" * \")\n",
        "\n",
        "             print(\" - \")\n",
        "         print_Matrix_by_Coordenates(temMatrix)\n",
        "         print(\" ^^^^^^^^^^^^^^^^^ \")\n",
        "\n",
        "         # Multipli temMatrix * matrixB and put value at multiply_Temp_M\n",
        "         for row3 in range(len(matrixB)):\n",
        "             for col3 in range(len(matrixB[0])):\n",
        "                 num3 =  matrixB[row3][col3]\n",
        "                 num4 = temMatrix[row3][col3]\n",
        "                 result = num3 * num4\n",
        "                 multiply_Temp_M[row3][col3] = result\n",
        "                 print(num3 , \" * \", num4, \" = \", multiply_Temp_M[row3][col3])\n",
        "             print(\" > print  multiply_Temp_M \")\n",
        "         print_Matrix_by_Coordenates(multiply_Temp_M)\n",
        "\n",
        "         # sum multiply_Temp_M's columns and put result at las row\n",
        "         for col4 in range(len(multiply_Temp_M[0])):\n",
        "             sum = 0\n",
        "             for row4 in range(len(multiply_Temp_M)-1):\n",
        "                  sum = sum + multiply_Temp_M[row4][col4]\n",
        "                  multiply_Temp_M[len(multiply_Temp_M)-1][col4] = sum\n",
        "         print(\" > sum multiply_Temp_M's columns and put result at las row \")\n",
        "         print_Matrix_by_Coordenates(multiply_Temp_M)\n",
        "         print(\" > !!!!!!!!!!!!!!!!!!!!!!!!!!!!!!!!!!!!!!!!!!!!! \")\n",
        "\n",
        "         # put results of multiply_Temp_M at mResult\n",
        "         row5 = col\n",
        "         for col5 in range(len(multiply_Temp_M[0])):\n",
        "             num = multiply_Temp_M[len(multiply_Temp_M)-1][col5]\n",
        "             mResult[row5][col5] = num\n",
        "\n",
        "         # print mResult\n",
        "         for row6 in mResult:\n",
        "             print(row6)\n",
        "     print(row5, \" Matrix  Result >>>>>>>>>>>>>>>> \")\n",
        "     for row6 in mResult:\n",
        "         print(row6)\n",
        "\n",
        "main()"
      ],
      "metadata": {
        "colab": {
          "base_uri": "https://localhost:8080/",
          "height": 297
        },
        "id": "4RbBKZlQjDsF",
        "outputId": "29841c6b-b50b-41f4-afe3-404e5ece83fc"
      },
      "execution_count": null,
      "outputs": [
        {
          "output_type": "error",
          "ename": "NameError",
          "evalue": "name 'print_Matrix_by_Coordenates' is not defined",
          "traceback": [
            "\u001b[0;31m---------------------------------------------------------------------------\u001b[0m",
            "\u001b[0;31mNameError\u001b[0m                                 Traceback (most recent call last)",
            "\u001b[0;32m<ipython-input-4-67967f6ad990>\u001b[0m in \u001b[0;36m<cell line: 104>\u001b[0;34m()\u001b[0m\n\u001b[1;32m    102\u001b[0m          \u001b[0mprint\u001b[0m\u001b[0;34m(\u001b[0m\u001b[0mrow6\u001b[0m\u001b[0;34m)\u001b[0m\u001b[0;34m\u001b[0m\u001b[0;34m\u001b[0m\u001b[0m\n\u001b[1;32m    103\u001b[0m \u001b[0;34m\u001b[0m\u001b[0m\n\u001b[0;32m--> 104\u001b[0;31m \u001b[0mmain\u001b[0m\u001b[0;34m(\u001b[0m\u001b[0;34m)\u001b[0m\u001b[0;34m\u001b[0m\u001b[0;34m\u001b[0m\u001b[0m\n\u001b[0m",
            "\u001b[0;32m<ipython-input-4-67967f6ad990>\u001b[0m in \u001b[0;36mmain\u001b[0;34m()\u001b[0m\n\u001b[1;32m      6\u001b[0m                 \u001b[0;34m[\u001b[0m\u001b[0;34m-\u001b[0m\u001b[0;36m2\u001b[0m\u001b[0;34m,\u001b[0m\u001b[0;36m9\u001b[0m\u001b[0;34m]\u001b[0m\u001b[0;34m,\u001b[0m\u001b[0;34m\u001b[0m\u001b[0;34m\u001b[0m\u001b[0m\n\u001b[1;32m      7\u001b[0m                 [7,-4]]\n\u001b[0;32m----> 8\u001b[0;31m      \u001b[0mprint_Matrix_by_Coordenates\u001b[0m\u001b[0;34m(\u001b[0m\u001b[0mmatrixA\u001b[0m\u001b[0;34m)\u001b[0m\u001b[0;34m\u001b[0m\u001b[0;34m\u001b[0m\u001b[0m\n\u001b[0m\u001b[1;32m      9\u001b[0m      \u001b[0mrowA\u001b[0m \u001b[0;34m=\u001b[0m \u001b[0mlen\u001b[0m\u001b[0;34m(\u001b[0m\u001b[0mmatrixA\u001b[0m\u001b[0;34m)\u001b[0m\u001b[0;34m\u001b[0m\u001b[0;34m\u001b[0m\u001b[0m\n\u001b[1;32m     10\u001b[0m      \u001b[0mcolA\u001b[0m \u001b[0;34m=\u001b[0m \u001b[0mlen\u001b[0m\u001b[0;34m(\u001b[0m\u001b[0mmatrixA\u001b[0m\u001b[0;34m[\u001b[0m\u001b[0;36m0\u001b[0m\u001b[0;34m]\u001b[0m\u001b[0;34m)\u001b[0m\u001b[0;34m\u001b[0m\u001b[0;34m\u001b[0m\u001b[0m\n",
            "\u001b[0;31mNameError\u001b[0m: name 'print_Matrix_by_Coordenates' is not defined"
          ]
        }
      ]
    }
  ]
}