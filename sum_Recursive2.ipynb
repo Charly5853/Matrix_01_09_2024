{
  "nbformat": 4,
  "nbformat_minor": 0,
  "metadata": {
    "colab": {
      "provenance": [],
      "authorship_tag": "ABX9TyOhm7tQjh5YC1iAHUPSFadJ",
      "include_colab_link": true
    },
    "kernelspec": {
      "name": "python3",
      "display_name": "Python 3"
    },
    "language_info": {
      "name": "python"
    }
  },
  "cells": [
    {
      "cell_type": "markdown",
      "metadata": {
        "id": "view-in-github",
        "colab_type": "text"
      },
      "source": [
        "<a href=\"https://colab.research.google.com/github/Charly5853/Matrix_01_09_2024/blob/main/sum_Recursive2.ipynb\" target=\"_parent\"><img src=\"https://colab.research.google.com/assets/colab-badge.svg\" alt=\"Open In Colab\"/></a>"
      ]
    },
    {
      "cell_type": "code",
      "execution_count": 2,
      "metadata": {
        "colab": {
          "base_uri": "https://localhost:8080/"
        },
        "id": "mhxnoI0K7FtY",
        "outputId": "560fc74a-2faf-4b3c-bfc0-c18fcfc93b25"
      },
      "outputs": [
        {
          "output_type": "stream",
          "name": "stdout",
          "text": [
            " 0.\n",
            " 1.\n",
            " 2.\n",
            " 3.\n",
            " 4.\n",
            " 5.\n",
            " 6.\n",
            " 7.\n",
            " 8.\n",
            " 9.\n",
            " Sum 1 + 1 10 is 10.\n"
          ]
        }
      ],
      "source": [
        "def sum_Recursive2(n, final_Y):\n",
        "    if n == final_Y: # value seeds\n",
        "        return 0 # neutral value\n",
        "    else:\n",
        "        print(f\" {n}.\")\n",
        "        return 1 + sum_Recursive2(n + 1, final_Y)  # Recursive sum\n",
        "\n",
        "        # Sum diagonal recursive\n",
        "initial_Value = 0\n",
        "final_Value = 10\n",
        "s = sum_Recursive2(initial_Value, final_Value)\n",
        "print(f\" Sum 1 + 1 {final_Value } is {s}.\")"
      ]
    }
  ]
}