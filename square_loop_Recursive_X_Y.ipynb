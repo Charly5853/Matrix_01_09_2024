{
  "nbformat": 4,
  "nbformat_minor": 0,
  "metadata": {
    "colab": {
      "provenance": [],
      "authorship_tag": "ABX9TyOiXDQAO0kTWsWTfks5qIix",
      "include_colab_link": true
    },
    "kernelspec": {
      "name": "python3",
      "display_name": "Python 3"
    },
    "language_info": {
      "name": "python"
    }
  },
  "cells": [
    {
      "cell_type": "markdown",
      "metadata": {
        "id": "view-in-github",
        "colab_type": "text"
      },
      "source": [
        "<a href=\"https://colab.research.google.com/github/Charly5853/Matrix_01_09_2024/blob/main/square_loop_Recursive_X_Y.ipynb\" target=\"_parent\"><img src=\"https://colab.research.google.com/assets/colab-badge.svg\" alt=\"Open In Colab\"/></a>"
      ]
    },
    {
      "cell_type": "code",
      "execution_count": 3,
      "metadata": {
        "colab": {
          "base_uri": "https://localhost:8080/"
        },
        "id": "30ZZSD-y-sxS",
        "outputId": "68e2b529-d656-4cca-b4e3-32edec402668"
      },
      "outputs": [
        {
          "output_type": "stream",
          "name": "stdout",
          "text": [
            " 0.\n",
            " 1.\n",
            " 2.\n",
            " 3.\n",
            " 4.\n",
            " 5.\n",
            " 6.\n",
            " 7.\n",
            " 8.\n",
            " 9.\n",
            " Sum 1 + 1 10 is 10.\n"
          ]
        }
      ],
      "source": [
        "def recursive_axis_X(n, final_X):\n",
        "    if n == final_X: # value seeds\n",
        "        return 0 # neutral value\n",
        "    else:\n",
        "        print(f\" {n}.\")\n",
        "        return 1 + recursive_axis_X(n + 1, final_X)  # Recursive sum\n",
        "\n",
        "        # Sum diagonal recursive\n",
        "initial_Value = 0\n",
        "final_Value = 10\n",
        "s = recursive_axis_X(initial_Value, final_Value)\n",
        "print(f\" Sum 1 + 1 {final_Value } is {s}.\")\n"
      ]
    },
    {
      "cell_type": "code",
      "source": [
        "def recursive_axis_Y(n, final_Y):\n",
        "    if n == final_Y: # value seeds\n",
        "        return 0 # neutral value\n",
        "    else:\n",
        "        print(f\" {n}.\")\n",
        "        return 1 + recursive_axis_Y(n + 1, final_Y)  # Recursive sum\n",
        "\n",
        "        # Sum diagonal recursive\n",
        "initial_Value = 0\n",
        "final_Value = 10\n",
        "s = recursive_axis_Y(initial_Value, final_Value)\n",
        "print(f\" Sum 1 + 1 {final_Value} is {s}.\")"
      ],
      "metadata": {
        "colab": {
          "base_uri": "https://localhost:8080/"
        },
        "id": "EOmnHETrFDeG",
        "outputId": "b799531d-6dc5-4bc3-a09e-094907f2652e"
      },
      "execution_count": 5,
      "outputs": [
        {
          "output_type": "stream",
          "name": "stdout",
          "text": [
            " 0.\n",
            " 1.\n",
            " 2.\n",
            " 3.\n",
            " 4.\n",
            " 5.\n",
            " 6.\n",
            " 7.\n",
            " 8.\n",
            " 9.\n",
            " Sum 1 + 1 10 is 10.\n"
          ]
        }
      ]
    }
  ]
}